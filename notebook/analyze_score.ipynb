{
 "cells": [
  {
   "cell_type": "code",
   "execution_count": 1,
   "metadata": {
    "collapsed": true,
    "jupyter": {
     "outputs_hidden": true
    },
    "pycharm": {
     "is_executing": false
    }
   },
   "outputs": [],
   "source": [
    "\n",
    "%load_ext autoreload\n",
    "%autoreload 2\n",
    "import _pathmagic\n",
    "import pandas as pd\n",
    "# from acanogan import acanogan_model,acanogan_predict, acanogan_test\n",
    "from sklearn import metrics\n",
    "import matplotlib.pyplot as plt\n",
    "# import scikitplot as skplt\n",
    "%matplotlib inline"
   ]
  },
  {
   "cell_type": "code",
   "execution_count": 7,
   "metadata": {
    "collapsed": false,
    "jupyter": {
     "outputs_hidden": false
    },
    "pycharm": {
     "is_executing": false,
     "name": "#%%\n"
    }
   },
   "outputs": [],
   "source": [
    "normal_score=pd.read_csv(\"../output/experiments/score/5032AB_test_normal_w=0.1.csv\",header=None,index_col=0,names=[\"score\"])\n",
    "anomaly_score=pd.read_csv(\"../output/experiments/score/5032AB_test_anomaly_w=0.1.csv\",header=None,index_col=0,names=[\"score\"])\n"
   ]
  },
  {
   "cell_type": "code",
   "execution_count": 9,
   "metadata": {
    "collapsed": false,
    "jupyter": {
     "outputs_hidden": false
    },
    "pycharm": {
     "is_executing": false,
     "name": "#%%\n"
    }
   },
   "outputs": [],
   "source": [
    "sort_normal=normal_score.sort_values(\"score\")\n",
    "sort_anomaly=anomaly_score.sort_values(\"score\")"
   ]
  },
  {
   "cell_type": "code",
   "execution_count": 10,
   "metadata": {
    "collapsed": false,
    "jupyter": {
     "outputs_hidden": false
    },
    "pycharm": {
     "is_executing": false,
     "name": "#%%\n"
    }
   },
   "outputs": [
    {
     "data": {
      "text/html": [
       "<div>\n",
       "<style scoped>\n",
       "    .dataframe tbody tr th:only-of-type {\n",
       "        vertical-align: middle;\n",
       "    }\n",
       "\n",
       "    .dataframe tbody tr th {\n",
       "        vertical-align: top;\n",
       "    }\n",
       "\n",
       "    .dataframe thead th {\n",
       "        text-align: right;\n",
       "    }\n",
       "</style>\n",
       "<table border=\"1\" class=\"dataframe\">\n",
       "  <thead>\n",
       "    <tr style=\"text-align: right;\">\n",
       "      <th></th>\n",
       "      <th>score</th>\n",
       "    </tr>\n",
       "  </thead>\n",
       "  <tbody>\n",
       "    <tr>\n",
       "      <th>20.08.09</th>\n",
       "      <td>0.270616</td>\n",
       "    </tr>\n",
       "    <tr>\n",
       "      <th>20.08.06</th>\n",
       "      <td>0.307974</td>\n",
       "    </tr>\n",
       "    <tr>\n",
       "      <th>20.05.03</th>\n",
       "      <td>0.333376</td>\n",
       "    </tr>\n",
       "    <tr>\n",
       "      <th>20.04.28</th>\n",
       "      <td>0.372728</td>\n",
       "    </tr>\n",
       "    <tr>\n",
       "      <th>20.07.18</th>\n",
       "      <td>0.403967</td>\n",
       "    </tr>\n",
       "    <tr>\n",
       "      <th>...</th>\n",
       "      <td>...</td>\n",
       "    </tr>\n",
       "    <tr>\n",
       "      <th>20.06.29</th>\n",
       "      <td>6.503092</td>\n",
       "    </tr>\n",
       "    <tr>\n",
       "      <th>20.08.24</th>\n",
       "      <td>7.247723</td>\n",
       "    </tr>\n",
       "    <tr>\n",
       "      <th>20.08.28</th>\n",
       "      <td>8.045061</td>\n",
       "    </tr>\n",
       "    <tr>\n",
       "      <th>20.08.01</th>\n",
       "      <td>9.826618</td>\n",
       "    </tr>\n",
       "    <tr>\n",
       "      <th>20.07.13</th>\n",
       "      <td>12.902612</td>\n",
       "    </tr>\n",
       "  </tbody>\n",
       "</table>\n",
       "<p>77 rows × 1 columns</p>\n",
       "</div>"
      ],
      "text/plain": [
       "              score\n",
       "20.08.09   0.270616\n",
       "20.08.06   0.307974\n",
       "20.05.03   0.333376\n",
       "20.04.28   0.372728\n",
       "20.07.18   0.403967\n",
       "...             ...\n",
       "20.06.29   6.503092\n",
       "20.08.24   7.247723\n",
       "20.08.28   8.045061\n",
       "20.08.01   9.826618\n",
       "20.07.13  12.902612\n",
       "\n",
       "[77 rows x 1 columns]"
      ]
     },
     "execution_count": 10,
     "metadata": {},
     "output_type": "execute_result"
    }
   ],
   "source": [
    "sort_normal\n",
    "\n"
   ]
  },
  {
   "cell_type": "code",
   "execution_count": null,
   "metadata": {
    "collapsed": false,
    "jupyter": {
     "outputs_hidden": false
    },
    "pycharm": {
     "name": "#%%\n"
    }
   },
   "outputs": [],
   "source": [
    "\n"
   ]
  }
 ],
 "metadata": {
  "kernelspec": {
   "display_name": "Python 3",
   "language": "python",
   "name": "python3"
  },
  "language_info": {
   "codemirror_mode": {
    "name": "ipython",
    "version": 3
   },
   "file_extension": ".py",
   "mimetype": "text/x-python",
   "name": "python",
   "nbconvert_exporter": "python",
   "pygments_lexer": "ipython3",
   "version": "3.7.5"
  },
  "pycharm": {
   "stem_cell": {
    "cell_type": "raw",
    "metadata": {
     "collapsed": false
    },
    "source": []
   }
  }
 },
 "nbformat": 4,
 "nbformat_minor": 4
}
