{
 "cells": [
  {
   "cell_type": "code",
   "execution_count": 1,
   "metadata": {
    "collapsed": false,
    "jupyter": {
     "outputs_hidden": false
    },
    "pycharm": {
     "is_executing": false,
     "name": "#%%\n"
    }
   },
   "outputs": [],
   "source": [
    "\n",
    "%load_ext autoreload\n",
    "%autoreload 2\n",
    "import _pathmagic\n",
    "import pandas as pd\n",
    "# from acanogan import acanogan_model,acanogan_predict, acanogan_test\n",
    "from sklearn import metrics\n",
    "import matplotlib.pyplot as plt\n",
    "# import scikitplot as skplt\n",
    "import scipy.stats as st\n",
    "%matplotlib inline"
   ]
  },
  {
   "cell_type": "code",
   "execution_count": 2,
   "metadata": {
    "collapsed": false,
    "jupyter": {
     "outputs_hidden": false
    },
    "pycharm": {
     "is_executing": false,
     "name": "#%%\n"
    }
   },
   "outputs": [],
   "source": [
    "threshold=1.8711795806884768\n",
    "normal_score=pd.read_csv(\"../output/experiments/score/acanogan/5032AB_test_normal_w=0.1.csv\",header=None,index_col=0,names=[\"score\"])\n",
    "anomaly_score=pd.read_csv(\"../output/experiments/score/acanogan/5032AB_test_anomaly_w=0.1.csv\",header=None,index_col=0,names=[\"score\"])\n"
   ]
  },
  {
   "cell_type": "code",
   "execution_count": 3,
   "metadata": {
    "collapsed": false,
    "jupyter": {
     "outputs_hidden": false
    },
    "pycharm": {
     "is_executing": false,
     "name": "#%%\n"
    }
   },
   "outputs": [],
   "source": [
    "# 真陰性，正常と判定されたもので実際に正常なもの\n",
    "true_negative=(normal_score.score<=threshold).sum()\n",
    "false_positive=(normal_score.score>threshold).sum()\n",
    "\n",
    "true_positive=(anomaly_score.score>=threshold).sum()\n",
    "false_negative=(anomaly_score.score<threshold).sum()"
   ]
  },
  {
   "cell_type": "code",
   "execution_count": 4,
   "metadata": {
    "collapsed": false,
    "jupyter": {
     "outputs_hidden": false
    },
    "pycharm": {
     "is_executing": false,
     "name": "#%%\n"
    }
   },
   "outputs": [
    {
     "name": "stdout",
     "text": [
      "p値 = 3.477608304993061e-09\n",
      "カイ2乗値 = 34.90\n",
      "自由度 = 1\n"
     ],
     "output_type": "stream"
    }
   ],
   "source": [
    "# 独立\n",
    "# 真陽性,偽陽性\n",
    "# 偽陰性,真陰性\n",
    "# 検査結果が実際に正常か異常かどうかと独立かの判定\n",
    "df = pd.DataFrame([[true_positive,false_positive],\n",
    "                   [false_negative,true_negative]])\n",
    "x2, p, dof, e = st.chi2_contingency(df,correction=False)\n",
    "print(f'p値 = {p}')\n",
    "print(f'カイ2乗値 = {x2:.2f}')\n",
    "print(f'自由度 = {dof}')\n",
    "\n"
   ]
  },
  {
   "cell_type": "code",
   "execution_count": 10,
   "metadata": {
    "collapsed": false,
    "jupyter": {
     "outputs_hidden": false
    },
    "pycharm": {
     "is_executing": false,
     "name": "#%%\n"
    }
   },
   "outputs": [
    {
     "data": {
      "text/plain": "    0   1\n0  54  22\n1  18  59",
      "text/html": "<div>\n<style scoped>\n    .dataframe tbody tr th:only-of-type {\n        vertical-align: middle;\n    }\n\n    .dataframe tbody tr th {\n        vertical-align: top;\n    }\n\n    .dataframe thead th {\n        text-align: right;\n    }\n</style>\n<table border=\"1\" class=\"dataframe\">\n  <thead>\n    <tr style=\"text-align: right;\">\n      <th></th>\n      <th>0</th>\n      <th>1</th>\n    </tr>\n  </thead>\n  <tbody>\n    <tr>\n      <th>0</th>\n      <td>54</td>\n      <td>22</td>\n    </tr>\n    <tr>\n      <th>1</th>\n      <td>18</td>\n      <td>59</td>\n    </tr>\n  </tbody>\n</table>\n</div>"
     },
     "metadata": {},
     "output_type": "execute_result",
     "execution_count": 10
    }
   ],
   "source": [
    "pd.DataFrame([[true_positive,false_negative],\n",
    "                   [false_positive,true_negative]])\n",
    "# e\n",
    "\n"
   ]
  },
  {
   "cell_type": "code",
   "execution_count": 5,
   "metadata": {
    "collapsed": false,
    "jupyter": {
     "outputs_hidden": false
    },
    "pycharm": {
     "is_executing": false,
     "name": "#%%\n"
    }
   },
   "outputs": [],
   "source": [
    "\n"
   ]
  }
 ],
 "metadata": {
  "kernelspec": {
   "display_name": "Python 3",
   "language": "python",
   "name": "python3"
  },
  "language_info": {
   "codemirror_mode": {
    "name": "ipython",
    "version": 3
   },
   "file_extension": ".py",
   "mimetype": "text/x-python",
   "name": "python",
   "nbconvert_exporter": "python",
   "pygments_lexer": "ipython3",
   "version": "3.7.5"
  },
  "pycharm": {
   "stem_cell": {
    "cell_type": "raw",
    "source": [],
    "metadata": {
     "collapsed": false
    }
   }
  }
 },
 "nbformat": 4,
 "nbformat_minor": 4
}