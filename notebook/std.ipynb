{
 "cells": [
  {
   "cell_type": "code",
   "execution_count": 3,
   "metadata": {
    "collapsed": true,
    "pycharm": {
     "is_executing": false,
     "name": "#%%\n"
    }
   },
   "outputs": [
    {
     "name": "stdout",
     "text": [
      "The autoreload extension is already loaded. To reload it, use:\n",
      "  %reload_ext autoreload\n"
     ],
     "output_type": "stream"
    }
   ],
   "source": [
    "import glob\n",
    "%load_ext autoreload\n",
    "%autoreload 2\n",
    "import _pathmagic\n",
    "from pathlib import Path\n",
    "import os\n",
    "import sys\n",
    "import numpy as np\n",
    "# signalfuncなどのある親ディレクトリのパスを取得\n",
    "current_dir = os.path.join(Path().resolve())\n",
    "# モジュールのあるパスを追加\n",
    "sys.path.append(str(current_dir) + '/../')\n",
    "import pandas as pd\n",
    "from sklearn import metrics\n",
    "import matplotlib.pyplot as plt\n",
    "# import scikitplot as skplt\n",
    "%matplotlib inline\n"
   ]
  },
  {
   "cell_type": "code",
   "execution_count": 9,
   "outputs": [
    {
     "data": {
      "text/plain": "               1         2         3         4    5    6         7    8    \\\n0                                                                           \n20.03.31  0.000000  0.000000  0.000000  0.000000  0.0  0.0  0.000000  0.0   \n20.03.30  0.000000  0.015625  0.000000  0.000000  0.0  0.0  0.000000  0.0   \n20.03.29  0.273438  0.132812  0.000000  0.015625  0.0  0.0  0.015625  0.0   \n20.03.28  0.000000  0.000000  0.007812  0.000000  0.0  0.0  0.000000  0.0   \n20.03.27  0.000000  0.000000  0.007812  0.000000  0.0  0.0  0.000000  0.0   \n\n          9    10   ...       111       112       113       114       115  \\\n0                   ...                                                     \n20.03.31  0.0  0.0  ...  0.539062  0.054688  0.273438  0.632812  0.593750   \n20.03.30  0.0  0.0  ...  0.734375  0.632812  0.585938  0.187500  0.281250   \n20.03.29  0.0  0.0  ...  0.554688  0.546875  0.539062  0.539062  0.718750   \n20.03.28  0.0  0.0  ...  0.531250  0.539062  0.531250  0.531250  0.531250   \n20.03.27  0.0  0.0  ...  0.515625  0.507812  0.507812  0.515625  0.515625   \n\n               116       117       118       119       120  \n0                                                           \n20.03.31  0.554688  0.539062  0.039062  0.273438  0.125000  \n20.03.30  0.156250  0.000000  0.015625  0.000000  0.000000  \n20.03.29  0.273438  0.054688  0.007812  0.000000  0.000000  \n20.03.28  0.515625  0.531250  0.531250  0.523438  0.046875  \n20.03.27  0.578125  0.281250  0.023438  0.007812  0.000000  \n\n[5 rows x 120 columns]",
      "text/html": "<div>\n<style scoped>\n    .dataframe tbody tr th:only-of-type {\n        vertical-align: middle;\n    }\n\n    .dataframe tbody tr th {\n        vertical-align: top;\n    }\n\n    .dataframe thead th {\n        text-align: right;\n    }\n</style>\n<table border=\"1\" class=\"dataframe\">\n  <thead>\n    <tr style=\"text-align: right;\">\n      <th></th>\n      <th>1</th>\n      <th>2</th>\n      <th>3</th>\n      <th>4</th>\n      <th>5</th>\n      <th>6</th>\n      <th>7</th>\n      <th>8</th>\n      <th>9</th>\n      <th>10</th>\n      <th>...</th>\n      <th>111</th>\n      <th>112</th>\n      <th>113</th>\n      <th>114</th>\n      <th>115</th>\n      <th>116</th>\n      <th>117</th>\n      <th>118</th>\n      <th>119</th>\n      <th>120</th>\n    </tr>\n    <tr>\n      <th>0</th>\n      <th></th>\n      <th></th>\n      <th></th>\n      <th></th>\n      <th></th>\n      <th></th>\n      <th></th>\n      <th></th>\n      <th></th>\n      <th></th>\n      <th></th>\n      <th></th>\n      <th></th>\n      <th></th>\n      <th></th>\n      <th></th>\n      <th></th>\n      <th></th>\n      <th></th>\n      <th></th>\n      <th></th>\n    </tr>\n  </thead>\n  <tbody>\n    <tr>\n      <th>20.03.31</th>\n      <td>0.000000</td>\n      <td>0.000000</td>\n      <td>0.000000</td>\n      <td>0.000000</td>\n      <td>0.0</td>\n      <td>0.0</td>\n      <td>0.000000</td>\n      <td>0.0</td>\n      <td>0.0</td>\n      <td>0.0</td>\n      <td>...</td>\n      <td>0.539062</td>\n      <td>0.054688</td>\n      <td>0.273438</td>\n      <td>0.632812</td>\n      <td>0.593750</td>\n      <td>0.554688</td>\n      <td>0.539062</td>\n      <td>0.039062</td>\n      <td>0.273438</td>\n      <td>0.125000</td>\n    </tr>\n    <tr>\n      <th>20.03.30</th>\n      <td>0.000000</td>\n      <td>0.015625</td>\n      <td>0.000000</td>\n      <td>0.000000</td>\n      <td>0.0</td>\n      <td>0.0</td>\n      <td>0.000000</td>\n      <td>0.0</td>\n      <td>0.0</td>\n      <td>0.0</td>\n      <td>...</td>\n      <td>0.734375</td>\n      <td>0.632812</td>\n      <td>0.585938</td>\n      <td>0.187500</td>\n      <td>0.281250</td>\n      <td>0.156250</td>\n      <td>0.000000</td>\n      <td>0.015625</td>\n      <td>0.000000</td>\n      <td>0.000000</td>\n    </tr>\n    <tr>\n      <th>20.03.29</th>\n      <td>0.273438</td>\n      <td>0.132812</td>\n      <td>0.000000</td>\n      <td>0.015625</td>\n      <td>0.0</td>\n      <td>0.0</td>\n      <td>0.015625</td>\n      <td>0.0</td>\n      <td>0.0</td>\n      <td>0.0</td>\n      <td>...</td>\n      <td>0.554688</td>\n      <td>0.546875</td>\n      <td>0.539062</td>\n      <td>0.539062</td>\n      <td>0.718750</td>\n      <td>0.273438</td>\n      <td>0.054688</td>\n      <td>0.007812</td>\n      <td>0.000000</td>\n      <td>0.000000</td>\n    </tr>\n    <tr>\n      <th>20.03.28</th>\n      <td>0.000000</td>\n      <td>0.000000</td>\n      <td>0.007812</td>\n      <td>0.000000</td>\n      <td>0.0</td>\n      <td>0.0</td>\n      <td>0.000000</td>\n      <td>0.0</td>\n      <td>0.0</td>\n      <td>0.0</td>\n      <td>...</td>\n      <td>0.531250</td>\n      <td>0.539062</td>\n      <td>0.531250</td>\n      <td>0.531250</td>\n      <td>0.531250</td>\n      <td>0.515625</td>\n      <td>0.531250</td>\n      <td>0.531250</td>\n      <td>0.523438</td>\n      <td>0.046875</td>\n    </tr>\n    <tr>\n      <th>20.03.27</th>\n      <td>0.000000</td>\n      <td>0.000000</td>\n      <td>0.007812</td>\n      <td>0.000000</td>\n      <td>0.0</td>\n      <td>0.0</td>\n      <td>0.000000</td>\n      <td>0.0</td>\n      <td>0.0</td>\n      <td>0.0</td>\n      <td>...</td>\n      <td>0.515625</td>\n      <td>0.507812</td>\n      <td>0.507812</td>\n      <td>0.515625</td>\n      <td>0.515625</td>\n      <td>0.578125</td>\n      <td>0.281250</td>\n      <td>0.023438</td>\n      <td>0.007812</td>\n      <td>0.000000</td>\n    </tr>\n  </tbody>\n</table>\n<p>5 rows × 120 columns</p>\n</div>"
     },
     "metadata": {},
     "output_type": "execute_result",
     "execution_count": 9
    }
   ],
   "source": [
    "\n",
    "# load data\n",
    "train=pd.read_csv(\"../data/experiments/train/5032AB.csv\",index_col=0,header=None)\n",
    "train=train/128\n",
    "train.head()"
   ],
   "metadata": {
    "collapsed": false,
    "pycharm": {
     "name": "#%%\n",
     "is_executing": false
    }
   }
  },
  {
   "cell_type": "code",
   "execution_count": 14,
   "outputs": [
    {
     "data": {
      "text/plain": "0.26313877012511183"
     },
     "metadata": {},
     "output_type": "execute_result",
     "execution_count": 14
    }
   ],
   "source": [
    "train.stack().std()\n",
    "\n"
   ],
   "metadata": {
    "collapsed": false,
    "pycharm": {
     "name": "#%%\n",
     "is_executing": false
    }
   }
  }
 ],
 "metadata": {
  "kernelspec": {
   "display_name": "Python 3",
   "language": "python",
   "name": "python3"
  },
  "language_info": {
   "codemirror_mode": {
    "name": "ipython",
    "version": 2
   },
   "file_extension": ".py",
   "mimetype": "text/x-python",
   "name": "python",
   "nbconvert_exporter": "python",
   "pygments_lexer": "ipython2",
   "version": "2.7.6"
  },
  "pycharm": {
   "stem_cell": {
    "cell_type": "raw",
    "source": [],
    "metadata": {
     "collapsed": false
    }
   }
  }
 },
 "nbformat": 4,
 "nbformat_minor": 0
}