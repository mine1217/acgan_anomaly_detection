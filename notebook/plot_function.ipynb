{
 "cells": [
  {
   "cell_type": "code",
   "execution_count": 9,
   "metadata": {
    "collapsed": false,
    "jupyter": {
     "outputs_hidden": false
    },
    "pycharm": {
     "is_executing": false,
     "name": "#%%\n"
    }
   },
   "outputs": [
    {
     "name": "stdout",
     "output_type": "stream",
     "text": [
      "The autoreload extension is already loaded. To reload it, use:\n",
      "  %reload_ext autoreload\n"
     ]
    }
   ],
   "source": [
    "\n",
    "%load_ext autoreload\n",
    "%autoreload 2\n",
    "import _pathmagic\n",
    "import pandas as pd\n",
    "# from acanogan import acanogan_model,acanogan_predict, acanogan_test\n",
    "from sklearn import metrics\n",
    "import matplotlib.pyplot as plt\n",
    "# import scikitplot as skplt\n",
    "import scipy.stats as st\n",
    "import sympy as sym\n",
    "import numpy as np\n",
    "%matplotlib inline"
   ]
  },
  {
   "cell_type": "code",
   "execution_count": 10,
   "metadata": {
    "collapsed": false,
    "jupyter": {
     "outputs_hidden": false
    },
    "pycharm": {
     "is_executing": false,
     "name": "#%%\n"
    }
   },
   "outputs": [],
   "source": [
    "# def alpha_sign(x):\n",
    "#     # if x<=0:\n",
    "#     #     return 0\n",
    "#     return x / (abs(x) + (1 / 0.2))\n"
   ]
  },
  {
   "cell_type": "code",
   "execution_count": 11,
   "metadata": {
    "collapsed": false,
    "jupyter": {
     "outputs_hidden": false
    },
    "pycharm": {
     "is_executing": false,
     "name": "#%%\n"
    }
   },
   "outputs": [],
   "source": [
    "# x>0\n",
    "a,x=sym.symbols(\"a,x\")\n",
    "alpha_sign=x / (x + (1 /a))"
   ]
  },
  {
   "cell_type": "code",
   "execution_count": 12,
   "metadata": {
    "collapsed": false,
    "jupyter": {
     "outputs_hidden": false
    },
    "pycharm": {
     "is_executing": false,
     "name": "#%%\n"
    }
   },
   "outputs": [
    {
     "data": {
      "text/latex": [
       "$\\displaystyle - \\frac{x}{\\left(x + \\frac{1}{a}\\right)^{2}} + \\frac{1}{x + \\frac{1}{a}}$"
      ],
      "text/plain": [
       "-x/(x + 1/a)**2 + 1/(x + 1/a)"
      ]
     },
     "execution_count": 12,
     "metadata": {},
     "output_type": "execute_result"
    }
   ],
   "source": [
    "alpha_sign_diff=sym.Derivative(alpha_sign,x).doit()\n",
    "alpha_sign_diff"
   ]
  },
  {
   "cell_type": "code",
   "execution_count": 13,
   "metadata": {
    "collapsed": false,
    "jupyter": {
     "outputs_hidden": false
    },
    "pycharm": {
     "is_executing": false,
     "name": "#%%\n"
    }
   },
   "outputs": [
    {
     "data": {
      "text/latex": [
       "$\\displaystyle -0.0526315789473684$"
      ],
      "text/plain": [
       "-0.0526315789473684"
      ]
     },
     "execution_count": 13,
     "metadata": {},
     "output_type": "execute_result"
    }
   ],
   "source": [
    "alpha_sign.subs({x:-0.1,a:0.5})\n",
    "# alpha_sign_diff.subs({x:1,a:0.2})"
   ]
  },
  {
   "cell_type": "code",
   "execution_count": 14,
   "metadata": {
    "collapsed": false,
    "jupyter": {
     "outputs_hidden": false
    },
    "pycharm": {
     "is_executing": false,
     "name": "#%%\n"
    }
   },
   "outputs": [
    {
     "name": "stderr",
     "output_type": "stream",
     "text": [
      "/Users/minamotokeita/.virtualenvs/sensepro_anomaly_detection/lib/python3.7/site-packages/ipykernel_launcher.py:28: UserWarning: Matplotlib is currently using module://ipykernel.pylab.backend_inline, which is a non-GUI backend, so cannot show the figure.\n"
     ]
    },
    {
     "data": {
      "image/png": "[encoded data removed]",
      "text/plain": [
       "<Figure size 432x288 with 1 Axes>"
      ]
     },
     "metadata": {
      "needs_background": "light"
     },
     "output_type": "display_data"
    }
   ],
   "source": [
    "N = 200\n",
    "xmin = -5\n",
    "xmax = 5\n",
    "def f(n):\n",
    "   if n <= 0:\n",
    "       return 0\n",
    "   return alpha_sign.subs({x:n,a:0.5})\n",
    "\n",
    "def g(n):\n",
    "   if n <= 0:\n",
    "       return 0\n",
    "   return alpha_sign_diff.subs({x:n,a:0.5})\n",
    "\n",
    "p = np.linspace(xmin, xmax, N)\n",
    "# y = activator.forward(x, *args, **kwds)\n",
    "# dx = activator.backward(x, y, *args, **kwds)\n",
    "\n",
    "fig, ax = plt.subplots(1)\n",
    "ax.plot( p, [f(p[k]) for k in range(N)],label=\"forward\")\n",
    "ax.plot( p, [g(p[k]) for k in range(N)] ,label=\"backward\")\n",
    "fig.suptitle(\"Alphasign\")\n",
    "ax.set_xticks([-4, -2, 0, 2, 4])\n",
    "ax.set_xlabel(\"x\")\n",
    "ax.set_ylabel(\"y\")\n",
    "ax.grid()\n",
    "ax.legend(loc=\"best\")\n",
    "# fig.savefig(\"{}.png\".format(name))\n",
    "fig.show()\n",
    "#plt.close(fig)"
   ]
  },
  {
   "cell_type": "code",
   "execution_count": 14,
   "metadata": {
    "collapsed": false,
    "jupyter": {
     "outputs_hidden": false
    },
    "pycharm": {
     "is_executing": false,
     "name": "#%%\n"
    }
   },
   "outputs": [],
   "source": [
    "\n"
   ]
  }
 ],
 "metadata": {
  "kernelspec": {
   "display_name": "Python 3",
   "language": "python",
   "name": "python3"
  },
  "language_info": {
   "codemirror_mode": {
    "name": "ipython",
    "version": 3
   },
   "file_extension": ".py",
   "mimetype": "text/x-python",
   "name": "python",
   "nbconvert_exporter": "python",
   "pygments_lexer": "ipython3",
   "version": "3.7.5"
  },
  "pycharm": {
   "stem_cell": {
    "cell_type": "raw",
    "metadata": {
     "collapsed": false
    },
    "source": []
   }
  }
 },
 "nbformat": 4,
 "nbformat_minor": 4
}
